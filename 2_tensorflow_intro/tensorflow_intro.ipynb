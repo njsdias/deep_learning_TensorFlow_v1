{
 "cells": [
  {
   "cell_type": "markdown",
   "metadata": {},
   "source": [
    "# TensorFlow: Intro\n",
    "- TensorFlow is a ML library developed by Google\n",
    "- It runs not only in CPUs but as well in GPUs and TPUs\n",
    "- That allow us to create fairly complicated models with a litle coding\n",
    "- TensorFlow has apeculiar underlying logic: requires a extra eforce to understand it.\n",
    "\n",
    "**What is a Tensor?**\n",
    "\n",
    "Tensor is a data structure categorized by the number of ranks.\n",
    "Tensors can be represented as n-dimensional arrays.\n",
    "- scalar: rank = 0\n",
    "- array : rank = 1\n",
    "- matrix: rank = 2\n",
    "- tensor: rank = n (generalization of the concepts: sclaar, array and matrix )\n",
    "\n",
    "TensorFlow is an open source library for numerical computation using data flow graphs. \n",
    "- Nodes in the grpah rerpesent mathematical operations\n",
    "- Edges represents the multidimensional data arrays (Tensors) communicated between them. (see more looking for TensorBard)"
   ]
  },
  {
   "cell_type": "markdown",
   "metadata": {},
   "source": [
    "## Import the relevant libraries"
   ]
  },
  {
   "cell_type": "code",
   "execution_count": 19,
   "metadata": {},
   "outputs": [],
   "source": [
    "## TODO: We need to update the code to TensorFlow v2.2.0"
   ]
  },
  {
   "cell_type": "code",
   "execution_count": 7,
   "metadata": {},
   "outputs": [
    {
     "name": "stdout",
     "output_type": "stream",
     "text": [
      "WARNING:tensorflow:From /home/nuno/.local/lib/python3.6/site-packages/tensorflow/python/compat/v2_compat.py:96: disable_resource_variables (from tensorflow.python.ops.variable_scope) is deprecated and will be removed in a future version.\n",
      "Instructions for updating:\n",
      "non-resource variables are not supported in the long term\n"
     ]
    }
   ],
   "source": [
    "import numpy as np\n",
    "import matplotlib.pyplot as plt\n",
    "#import tensorflow as tf\n",
    "\n",
    "import tensorflow.compat.v1 as tf\n",
    "tf.disable_v2_behavior()"
   ]
  },
  {
   "cell_type": "markdown",
   "metadata": {},
   "source": [
    "## Data generation"
   ]
  },
  {
   "cell_type": "code",
   "execution_count": 2,
   "metadata": {},
   "outputs": [],
   "source": [
    "observations = 1000\n",
    "\n",
    "xs = np.random.uniform(low=-10, high=10, size=(observations,1))\n",
    "zs = np.random.uniform(low=-10, high=10, size=(observations,1))\n",
    "\n",
    "generate_inputs = np.column_stack((xs,zs))\n",
    "\n",
    "noise = np.random.uniform(low=-1, high=1, size=(observations,1))\n",
    "generated_targets = 2*xs - 3*zs +5 + noise\n",
    "\n",
    "# Save data in a tensor format that can be used by TensorFlow. \n",
    "# The data is saved in .npz format.\n",
    "np.savez('TF_intro', inputs= generate_inputs, targets=generated_targets)"
   ]
  },
  {
   "cell_type": "markdown",
   "metadata": {},
   "source": [
    "## Solving with TensorFlow"
   ]
  },
  {
   "cell_type": "code",
   "execution_count": 4,
   "metadata": {},
   "outputs": [],
   "source": [
    "input_size = 2 # two variables\n",
    "output_size = 1 # one output"
   ]
  },
  {
   "cell_type": "markdown",
   "metadata": {},
   "source": [
    "Each object we create using the tf library would do nothing unless explicitly told to. It rather describes the logic of the algorithm."
   ]
  },
  {
   "cell_type": "markdown",
   "metadata": {},
   "source": [
    "## Outlining the mode\n",
    "\n",
    "- Defining Tensorflow objects\n",
    "- Using the **tf.placeholder**: it is where we feed the data. The data that is contained in our dataset it goes into placeholder\n",
    "- We will use the npz to feed the data into the model through placeholder\n",
    "\n",
    "**Note:** tf.placefolder doesn't preserves their values across iterations\n",
    "\n",
    "We initiaize weights and biases using anotther TensorFlow object: **tf.Variable**.\n",
    "\n",
    "**Note:** tf.Variable doesn't preserve their values across iterations\n",
    "\n",
    "In resume:\n",
    "- Feed data -> tf.placeholder\n",
    "- Vary -> tf.Variable\n",
    "\n",
    "$x w + b = t -> targets$\n",
    "\n",
    "- $x$: n x k  -> n: total of records/obervations ; k: total of variables\n",
    "- $w$: k x m  ->  k: total of variables; m: total of outputs  \n",
    "- $b$: 1 x m \n",
    "- $y$: n x m\n"
   ]
  },
  {
   "cell_type": "code",
   "execution_count": 8,
   "metadata": {},
   "outputs": [],
   "source": [
    "# None means that we need not to specify the dimension\n",
    "#inputs = tf.placeholder(tf.float32,[None,input_size])\n",
    "inputs = tf.compat.v1.placeholder(tf.float32,[None,input_size])\n",
    "targets = tf.compat.v1.placeholder(tf.float32,[None,output_size])\n",
    "#targets = tf.placeholder(tf.float32,[None, output_size])\n",
    "\n",
    "weights = tf.Variable(tf.random.uniform([input_size,output_size], \n",
    "                                        minval=-0.1, maxval=0.1))\n",
    "\n",
    "biases = tf.Variable(tf.random.uniform([output_size], \n",
    "                                        minval=-0.1, maxval=0.1))\n",
    "\n",
    "# x.w + b = y \n",
    "outputs = tf.matmul(inputs,weights) + biases  "
   ]
  },
  {
   "cell_type": "markdown",
   "metadata": {},
   "source": [
    "## Chossing the objective function and the optimization model method\n",
    "\n",
    "- Objective / Loss Function : l2-norm / observations /2 -> mean_loss\n",
    "- Optimize Method : Gradient Descent\n"
   ]
  },
  {
   "cell_type": "code",
   "execution_count": 13,
   "metadata": {},
   "outputs": [],
   "source": [
    "mean_loss = tf.losses.mean_squared_error(labels=targets, predictions=outputs) / 2.\n",
    "optimize = tf.train.GradientDescentOptimizer(learning_rate=0.05).minimize(mean_loss)"
   ]
  },
  {
   "cell_type": "markdown",
   "metadata": {},
   "source": [
    "## Prepare for execution\n",
    "\n",
    "- `tf.InteractiveSession()`: it is used whenever we want to execute something, anything\n",
    "- In TensorFlow the training happens in sessions. When we use `tf.IteractiveSession()` we actually say: \"It's time to execute\"\n"
   ]
  },
  {
   "cell_type": "code",
   "execution_count": 9,
   "metadata": {},
   "outputs": [],
   "source": [
    "sess = tf.InteractiveSession()"
   ]
  },
  {
   "cell_type": "markdown",
   "metadata": {},
   "source": [
    "## Initializing Variabels\n",
    "\n",
    "- `tf.global_variables_initializer()`: it is the method that initializes all tensor objects \"market\" as variables\n",
    "- In our case we have weights and biases"
   ]
  },
  {
   "cell_type": "code",
   "execution_count": 11,
   "metadata": {},
   "outputs": [],
   "source": [
    "initializer =tf.global_variables_initializer()\n",
    "\n",
    "# It is used whenever for executing something, anything\n",
    "sess.run(initializer)"
   ]
  },
  {
   "cell_type": "markdown",
   "metadata": {},
   "source": [
    "## Loading Training data"
   ]
  },
  {
   "cell_type": "code",
   "execution_count": 12,
   "metadata": {},
   "outputs": [],
   "source": [
    "training_data = np.load('TF_intro.npz')"
   ]
  },
  {
   "cell_type": "markdown",
   "metadata": {},
   "source": [
    "## Learning\n",
    "\n",
    "- Epoch: it is the name attributed for an interation over the full dataset \n",
    "- feed_dict: thells the algortihm how the data is going to be fed. \n",
    "    - It receives a dictionary: {placeholder1: data, placeholer2:data\n",
    "    - Remember: `training_data` is loading our dataset. When we saved dataset in the file *TF_intor.npz* it received two labels (inputs and targets):\n",
    "        - `inputs = generate_inputs`) \n",
    "        - `targets = generated_targets`)\n",
    "        \n",
    "This process can be understood as:\n",
    "   - Run the optimize and mean_loss operations by filling the placeholder objects with data specified in the feed_dict parameter\n",
    "   \n",
    "curr_loss method return something for optimze and mean_loss:\n",
    "   - optimize always is None. For this reason we disregard this value and we don't need this value.\n",
    "   - mean_loss has always a value\n",
    "   \n",
    "**Note:** Iterating over the data is not so easy if we want amazing results"
   ]
  },
  {
   "cell_type": "code",
   "execution_count": 14,
   "metadata": {},
   "outputs": [
    {
     "name": "stdout",
     "output_type": "stream",
     "text": [
      "243.92793\n",
      "131.32521\n",
      "77.89317\n",
      "50.04766\n",
      "34.15654\n",
      "24.376396\n",
      "18.00898\n",
      "13.693863\n",
      "10.68223\n",
      "8.530016\n",
      "6.9590087\n",
      "5.7883563\n",
      "4.897653\n",
      "4.2055006\n",
      "3.6562486\n",
      "3.2115135\n",
      "2.8445883\n",
      "2.5367134\n",
      "2.2745655\n",
      "2.0485723\n",
      "1.8517393\n",
      "1.6788831\n",
      "1.5260808\n",
      "1.3903064\n",
      "1.269177\n",
      "1.1607808\n",
      "1.063548\n",
      "0.97617245\n",
      "0.89754766\n",
      "0.826724\n",
      "0.76287824\n",
      "0.70528734\n",
      "0.65331674\n",
      "0.60640174\n",
      "0.5640404\n",
      "0.52578324\n",
      "0.49122807\n",
      "0.46001264\n",
      "0.43181252\n",
      "0.40633404\n",
      "0.38331482\n",
      "0.3625157\n",
      "0.34372258\n",
      "0.32674164\n",
      "0.3113977\n",
      "0.2975331\n",
      "0.28500476\n",
      "0.2736839\n",
      "0.26345414\n",
      "0.25421056\n",
      "0.24585788\n",
      "0.23831013\n",
      "0.23148985\n",
      "0.22532678\n",
      "0.21975777\n",
      "0.21472546\n",
      "0.21017794\n",
      "0.20606887\n",
      "0.20235567\n",
      "0.19900037\n",
      "0.19596857\n",
      "0.19322869\n",
      "0.19075304\n",
      "0.18851587\n",
      "0.18649428\n",
      "0.18466754\n",
      "0.18301696\n",
      "0.18152536\n",
      "0.18017755\n",
      "0.17895956\n",
      "0.17785901\n",
      "0.17686443\n",
      "0.17596574\n",
      "0.17515366\n",
      "0.17441991\n",
      "0.17375682\n",
      "0.17315768\n",
      "0.17261621\n",
      "0.17212695\n",
      "0.1716849\n",
      "0.17128535\n",
      "0.17092437\n",
      "0.17059812\n",
      "0.1703034\n",
      "0.17003705\n",
      "0.16979632\n",
      "0.16957882\n",
      "0.16938229\n",
      "0.16920468\n",
      "0.16904415\n",
      "0.16889913\n",
      "0.16876812\n",
      "0.16864969\n",
      "0.16854271\n",
      "0.168446\n",
      "0.16835861\n",
      "0.16827969\n",
      "0.16820835\n",
      "0.16814387\n",
      "0.16808566\n"
     ]
    }
   ],
   "source": [
    "for e in range(100):\n",
    "    # curr_loss = current loss\n",
    "    _, curr_loss = sess.run([optimize, mean_loss],\n",
    "                           feed_dict={inputs: training_data['inputs'], targets: training_data['targets']})\n",
    "    print(curr_loss)"
   ]
  },
  {
   "cell_type": "markdown",
   "metadata": {},
   "source": [
    "## Plotting the data"
   ]
  },
  {
   "cell_type": "code",
   "execution_count": 15,
   "metadata": {},
   "outputs": [
    {
     "data": {
      "image/png": "[encoded data removed]",
      "text/plain": [
       "<matplotlib.figure.Figure at 0x7fb14c601fd0>"
      ]
     },
     "metadata": {
      "needs_background": "light"
     },
     "output_type": "display_data"
    }
   ],
   "source": [
    "out =  sess.run([outputs],\n",
    "               feed_dict={inputs: training_data['inputs']})\n",
    "\n",
    "plt.plot(np.squeeze(out), np.squeeze(training_data['targets']) )\n",
    "plt.xlabel('outputs')\n",
    "plt.ylabel('targets')\n",
    "plt.show()"
   ]
  }
 ],
 "metadata": {
  "kernelspec": {
   "display_name": "Python 3",
   "language": "python",
   "name": "python3"
  },
  "language_info": {
   "codemirror_mode": {
    "name": "ipython",
    "version": 3
   },
   "file_extension": ".py",
   "mimetype": "text/x-python",
   "name": "python",
   "nbconvert_exporter": "python",
   "pygments_lexer": "ipython3",
   "version": "3.6.9"
  }
 },
 "nbformat": 4,
 "nbformat_minor": 4
}
